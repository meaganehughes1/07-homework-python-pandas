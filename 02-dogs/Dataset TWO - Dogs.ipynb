{
 "cells": [
  {
   "cell_type": "markdown",
   "metadata": {},
   "source": [
    "# Homework 7, Part Two: A dataset about dogs.\n",
    "\n",
    "Data from [a FOIL request to New York City](https://www.muckrock.com/foi/new-york-city-17/pet-licensing-data-for-new-york-city-23826/).\n",
    "\n",
    "Some of the questions get kind of weird in this one, especially later on. **Feel free to lean on ChatGPT for the crazier ones!** It might be an interesting exploration of how to ask problems or explain what your dataset looks like."
   ]
  },
  {
   "cell_type": "markdown",
   "metadata": {},
   "source": [
    "## Do your importing and your setup"
   ]
  },
  {
   "cell_type": "code",
   "execution_count": 2,
   "metadata": {},
   "outputs": [],
   "source": [
    "import pandas as pd"
   ]
  },
  {
   "cell_type": "markdown",
   "metadata": {},
   "source": [
    "## Read in the file `NYC_Dog_Licenses_Current_as_of_4-28-2016.xlsx` and look at the first five rows"
   ]
  },
  {
   "cell_type": "code",
   "execution_count": 3,
   "metadata": {},
   "outputs": [
    {
     "data": {
      "text/html": [
       "<div>\n",
       "<style scoped>\n",
       "    .dataframe tbody tr th:only-of-type {\n",
       "        vertical-align: middle;\n",
       "    }\n",
       "\n",
       "    .dataframe tbody tr th {\n",
       "        vertical-align: top;\n",
       "    }\n",
       "\n",
       "    .dataframe thead th {\n",
       "        text-align: right;\n",
       "    }\n",
       "</style>\n",
       "<table border=\"1\" class=\"dataframe\">\n",
       "  <thead>\n",
       "    <tr style=\"text-align: right;\">\n",
       "      <th></th>\n",
       "      <th>Owner Zip Code</th>\n",
       "      <th>Animal Name</th>\n",
       "      <th>Animal Gender</th>\n",
       "      <th>Primary Breed</th>\n",
       "      <th>Secondary Breed</th>\n",
       "      <th>Animal Dominant Color</th>\n",
       "      <th>Animal Secondary Color</th>\n",
       "      <th>Animal Third Color</th>\n",
       "      <th>Animal Birth</th>\n",
       "      <th>Spayed or Neut</th>\n",
       "      <th>Guard or Trained</th>\n",
       "      <th>Vaccinated</th>\n",
       "      <th>Application Date</th>\n",
       "      <th>License Issued Date</th>\n",
       "      <th>License Expired Date</th>\n",
       "    </tr>\n",
       "  </thead>\n",
       "  <tbody>\n",
       "    <tr>\n",
       "      <th>0</th>\n",
       "      <td>10024</td>\n",
       "      <td>BLUE MACK</td>\n",
       "      <td>M</td>\n",
       "      <td>Unknown</td>\n",
       "      <td>AIREDALE TERR</td>\n",
       "      <td>BROWN</td>\n",
       "      <td>BLACK</td>\n",
       "      <td>NaN</td>\n",
       "      <td>2007-11-01</td>\n",
       "      <td>Yes</td>\n",
       "      <td>No</td>\n",
       "      <td>Yes</td>\n",
       "      <td>2012-09-19 16:01:19.647</td>\n",
       "      <td>2015-09-19</td>\n",
       "      <td>2016-09-19</td>\n",
       "    </tr>\n",
       "    <tr>\n",
       "      <th>1</th>\n",
       "      <td>10461</td>\n",
       "      <td>Indie Zephir</td>\n",
       "      <td>M</td>\n",
       "      <td>Rottweiler</td>\n",
       "      <td>NaN</td>\n",
       "      <td>BLACK</td>\n",
       "      <td>TAN</td>\n",
       "      <td>NaN</td>\n",
       "      <td>2013-04-01</td>\n",
       "      <td>No</td>\n",
       "      <td>No</td>\n",
       "      <td>Yes</td>\n",
       "      <td>2013-09-20 11:41:36.647</td>\n",
       "      <td>2014-09-20</td>\n",
       "      <td>2018-09-20</td>\n",
       "    </tr>\n",
       "    <tr>\n",
       "      <th>2</th>\n",
       "      <td>10013</td>\n",
       "      <td>Bilal</td>\n",
       "      <td>M</td>\n",
       "      <td>Australian Cattledog</td>\n",
       "      <td>NaN</td>\n",
       "      <td>Rust</td>\n",
       "      <td>NaN</td>\n",
       "      <td>NaN</td>\n",
       "      <td>2014-09-01</td>\n",
       "      <td>Yes</td>\n",
       "      <td>NaN</td>\n",
       "      <td>No</td>\n",
       "      <td>2014-09-12 13:13:36.713</td>\n",
       "      <td>2014-09-12</td>\n",
       "      <td>2019-09-12</td>\n",
       "    </tr>\n",
       "    <tr>\n",
       "      <th>3</th>\n",
       "      <td>10025</td>\n",
       "      <td>Buddy</td>\n",
       "      <td>M</td>\n",
       "      <td>Unknown</td>\n",
       "      <td>Cockapoo</td>\n",
       "      <td>BLOND</td>\n",
       "      <td>WHITE</td>\n",
       "      <td>NaN</td>\n",
       "      <td>2008-04-01</td>\n",
       "      <td>Yes</td>\n",
       "      <td>No</td>\n",
       "      <td>Yes</td>\n",
       "      <td>2014-09-12 15:26:51.417</td>\n",
       "      <td>2014-09-12</td>\n",
       "      <td>2017-10-20</td>\n",
       "    </tr>\n",
       "    <tr>\n",
       "      <th>4</th>\n",
       "      <td>10013</td>\n",
       "      <td>Ali</td>\n",
       "      <td>M</td>\n",
       "      <td>Basenji</td>\n",
       "      <td>NaN</td>\n",
       "      <td>Black</td>\n",
       "      <td>NaN</td>\n",
       "      <td>NaN</td>\n",
       "      <td>2014-01-01</td>\n",
       "      <td>No</td>\n",
       "      <td>NaN</td>\n",
       "      <td>No</td>\n",
       "      <td>2014-09-12 15:43:17.707</td>\n",
       "      <td>2014-09-12</td>\n",
       "      <td>2019-09-12</td>\n",
       "    </tr>\n",
       "  </tbody>\n",
       "</table>\n",
       "</div>"
      ],
      "text/plain": [
       "   Owner Zip Code   Animal Name Animal Gender         Primary Breed  \\\n",
       "0           10024     BLUE MACK             M               Unknown   \n",
       "1           10461  Indie Zephir             M            Rottweiler   \n",
       "2           10013         Bilal             M  Australian Cattledog   \n",
       "3           10025         Buddy             M               Unknown   \n",
       "4           10013           Ali             M               Basenji   \n",
       "\n",
       "  Secondary Breed Animal Dominant Color Animal Secondary Color  \\\n",
       "0   AIREDALE TERR                 BROWN                  BLACK   \n",
       "1             NaN                 BLACK                    TAN   \n",
       "2             NaN                  Rust                    NaN   \n",
       "3        Cockapoo                 BLOND                  WHITE   \n",
       "4             NaN                 Black                    NaN   \n",
       "\n",
       "  Animal Third Color Animal Birth Spayed or Neut Guard or Trained Vaccinated  \\\n",
       "0                NaN   2007-11-01            Yes               No        Yes   \n",
       "1                NaN   2013-04-01             No               No        Yes   \n",
       "2                NaN   2014-09-01            Yes              NaN         No   \n",
       "3                NaN   2008-04-01            Yes               No        Yes   \n",
       "4                NaN   2014-01-01             No              NaN         No   \n",
       "\n",
       "         Application Date License Issued Date License Expired Date  \n",
       "0 2012-09-19 16:01:19.647          2015-09-19           2016-09-19  \n",
       "1 2013-09-20 11:41:36.647          2014-09-20           2018-09-20  \n",
       "2 2014-09-12 13:13:36.713          2014-09-12           2019-09-12  \n",
       "3 2014-09-12 15:26:51.417          2014-09-12           2017-10-20  \n",
       "4 2014-09-12 15:43:17.707          2014-09-12           2019-09-12  "
      ]
     },
     "execution_count": 3,
     "metadata": {},
     "output_type": "execute_result"
    }
   ],
   "source": [
    "df = pd.read_excel('NYC_Dog_Licenses_Current_as_of_4-28-2016.xlsx')\n",
    "df.head(5)"
   ]
  },
  {
   "cell_type": "markdown",
   "metadata": {},
   "source": [
    "## How many rows do you have in the data? What are the column types?\n",
    "\n",
    "If there are more than 30,000 rows in your dataset, go back and only read in the first 30,000."
   ]
  },
  {
   "cell_type": "code",
   "execution_count": 15,
   "metadata": {},
   "outputs": [
    {
     "data": {
      "text/plain": [
       "Owner Zip Code                     int64\n",
       "Animal Name                       object\n",
       "Animal Gender                     object\n",
       "Primary Breed                     object\n",
       "Secondary Breed                   object\n",
       "Animal Dominant Color             object\n",
       "Animal Secondary Color            object\n",
       "Animal Third Color                object\n",
       "Animal Birth              datetime64[ns]\n",
       "Spayed or Neut                    object\n",
       "Guard or Trained                  object\n",
       "Vaccinated                        object\n",
       "Application Date          datetime64[ns]\n",
       "License Issued Date       datetime64[ns]\n",
       "License Expired Date      datetime64[ns]\n",
       "dtype: object"
      ]
     },
     "execution_count": 15,
     "metadata": {},
     "output_type": "execute_result"
    }
   ],
   "source": [
    "# taking a look at column types\n",
    "df.dtypes"
   ]
  },
  {
   "cell_type": "code",
   "execution_count": 11,
   "metadata": {},
   "outputs": [
    {
     "data": {
      "text/html": [
       "<div>\n",
       "<style scoped>\n",
       "    .dataframe tbody tr th:only-of-type {\n",
       "        vertical-align: middle;\n",
       "    }\n",
       "\n",
       "    .dataframe tbody tr th {\n",
       "        vertical-align: top;\n",
       "    }\n",
       "\n",
       "    .dataframe thead th {\n",
       "        text-align: right;\n",
       "    }\n",
       "</style>\n",
       "<table border=\"1\" class=\"dataframe\">\n",
       "  <thead>\n",
       "    <tr style=\"text-align: right;\">\n",
       "      <th></th>\n",
       "      <th>Owner Zip Code</th>\n",
       "      <th>Animal Name</th>\n",
       "      <th>Animal Gender</th>\n",
       "      <th>Primary Breed</th>\n",
       "      <th>Secondary Breed</th>\n",
       "      <th>Animal Dominant Color</th>\n",
       "      <th>Animal Secondary Color</th>\n",
       "      <th>Animal Third Color</th>\n",
       "      <th>Animal Birth</th>\n",
       "      <th>Spayed or Neut</th>\n",
       "      <th>Guard or Trained</th>\n",
       "      <th>Vaccinated</th>\n",
       "      <th>Application Date</th>\n",
       "      <th>License Issued Date</th>\n",
       "      <th>License Expired Date</th>\n",
       "    </tr>\n",
       "  </thead>\n",
       "  <tbody>\n",
       "    <tr>\n",
       "      <th>0</th>\n",
       "      <td>10024</td>\n",
       "      <td>BLUE MACK</td>\n",
       "      <td>M</td>\n",
       "      <td>Unknown</td>\n",
       "      <td>AIREDALE TERR</td>\n",
       "      <td>BROWN</td>\n",
       "      <td>BLACK</td>\n",
       "      <td>NaN</td>\n",
       "      <td>2007-11-01</td>\n",
       "      <td>Yes</td>\n",
       "      <td>No</td>\n",
       "      <td>Yes</td>\n",
       "      <td>2012-09-19 16:01:19.647</td>\n",
       "      <td>2015-09-19</td>\n",
       "      <td>2016-09-19</td>\n",
       "    </tr>\n",
       "    <tr>\n",
       "      <th>1</th>\n",
       "      <td>10461</td>\n",
       "      <td>Indie Zephir</td>\n",
       "      <td>M</td>\n",
       "      <td>Rottweiler</td>\n",
       "      <td>NaN</td>\n",
       "      <td>BLACK</td>\n",
       "      <td>TAN</td>\n",
       "      <td>NaN</td>\n",
       "      <td>2013-04-01</td>\n",
       "      <td>No</td>\n",
       "      <td>No</td>\n",
       "      <td>Yes</td>\n",
       "      <td>2013-09-20 11:41:36.647</td>\n",
       "      <td>2014-09-20</td>\n",
       "      <td>2018-09-20</td>\n",
       "    </tr>\n",
       "    <tr>\n",
       "      <th>2</th>\n",
       "      <td>10013</td>\n",
       "      <td>Bilal</td>\n",
       "      <td>M</td>\n",
       "      <td>Australian Cattledog</td>\n",
       "      <td>NaN</td>\n",
       "      <td>Rust</td>\n",
       "      <td>NaN</td>\n",
       "      <td>NaN</td>\n",
       "      <td>2014-09-01</td>\n",
       "      <td>Yes</td>\n",
       "      <td>NaN</td>\n",
       "      <td>No</td>\n",
       "      <td>2014-09-12 13:13:36.713</td>\n",
       "      <td>2014-09-12</td>\n",
       "      <td>2019-09-12</td>\n",
       "    </tr>\n",
       "    <tr>\n",
       "      <th>3</th>\n",
       "      <td>10025</td>\n",
       "      <td>Buddy</td>\n",
       "      <td>M</td>\n",
       "      <td>Unknown</td>\n",
       "      <td>Cockapoo</td>\n",
       "      <td>BLOND</td>\n",
       "      <td>WHITE</td>\n",
       "      <td>NaN</td>\n",
       "      <td>2008-04-01</td>\n",
       "      <td>Yes</td>\n",
       "      <td>No</td>\n",
       "      <td>Yes</td>\n",
       "      <td>2014-09-12 15:26:51.417</td>\n",
       "      <td>2014-09-12</td>\n",
       "      <td>2017-10-20</td>\n",
       "    </tr>\n",
       "    <tr>\n",
       "      <th>4</th>\n",
       "      <td>10013</td>\n",
       "      <td>Ali</td>\n",
       "      <td>M</td>\n",
       "      <td>Basenji</td>\n",
       "      <td>NaN</td>\n",
       "      <td>Black</td>\n",
       "      <td>NaN</td>\n",
       "      <td>NaN</td>\n",
       "      <td>2014-01-01</td>\n",
       "      <td>No</td>\n",
       "      <td>NaN</td>\n",
       "      <td>No</td>\n",
       "      <td>2014-09-12 15:43:17.707</td>\n",
       "      <td>2014-09-12</td>\n",
       "      <td>2019-09-12</td>\n",
       "    </tr>\n",
       "    <tr>\n",
       "      <th>...</th>\n",
       "      <td>...</td>\n",
       "      <td>...</td>\n",
       "      <td>...</td>\n",
       "      <td>...</td>\n",
       "      <td>...</td>\n",
       "      <td>...</td>\n",
       "      <td>...</td>\n",
       "      <td>...</td>\n",
       "      <td>...</td>\n",
       "      <td>...</td>\n",
       "      <td>...</td>\n",
       "      <td>...</td>\n",
       "      <td>...</td>\n",
       "      <td>...</td>\n",
       "      <td>...</td>\n",
       "    </tr>\n",
       "    <tr>\n",
       "      <th>29995</th>\n",
       "      <td>11372</td>\n",
       "      <td>Bella</td>\n",
       "      <td>F</td>\n",
       "      <td>Unknown</td>\n",
       "      <td>Goldendoodle</td>\n",
       "      <td>CREAM</td>\n",
       "      <td>WHITE</td>\n",
       "      <td>TAN</td>\n",
       "      <td>2010-07-01</td>\n",
       "      <td>Yes</td>\n",
       "      <td>No</td>\n",
       "      <td>Yes</td>\n",
       "      <td>2015-08-22 19:00:39.303</td>\n",
       "      <td>2015-08-22</td>\n",
       "      <td>2016-09-27</td>\n",
       "    </tr>\n",
       "    <tr>\n",
       "      <th>29996</th>\n",
       "      <td>11417</td>\n",
       "      <td>Sadie</td>\n",
       "      <td>F</td>\n",
       "      <td>Schnauzer, Miniature</td>\n",
       "      <td>NaN</td>\n",
       "      <td>BLACK</td>\n",
       "      <td>BROWN</td>\n",
       "      <td>NaN</td>\n",
       "      <td>2010-05-01</td>\n",
       "      <td>Yes</td>\n",
       "      <td>No</td>\n",
       "      <td>Yes</td>\n",
       "      <td>2015-08-22 19:03:08.003</td>\n",
       "      <td>2015-08-22</td>\n",
       "      <td>2016-09-28</td>\n",
       "    </tr>\n",
       "    <tr>\n",
       "      <th>29997</th>\n",
       "      <td>11228</td>\n",
       "      <td>unknown</td>\n",
       "      <td>M</td>\n",
       "      <td>Pomeranian</td>\n",
       "      <td>NaN</td>\n",
       "      <td>Tan</td>\n",
       "      <td>White</td>\n",
       "      <td>NaN</td>\n",
       "      <td>2014-03-01</td>\n",
       "      <td>Yes</td>\n",
       "      <td>NaN</td>\n",
       "      <td>Yes</td>\n",
       "      <td>2015-08-22 19:04:56.720</td>\n",
       "      <td>2015-08-22</td>\n",
       "      <td>2016-08-22</td>\n",
       "    </tr>\n",
       "    <tr>\n",
       "      <th>29998</th>\n",
       "      <td>11217</td>\n",
       "      <td>daisy</td>\n",
       "      <td>F</td>\n",
       "      <td>Unknown</td>\n",
       "      <td>NaN</td>\n",
       "      <td>GRAY</td>\n",
       "      <td>WHITE</td>\n",
       "      <td>BLACK</td>\n",
       "      <td>2009-01-01</td>\n",
       "      <td>Yes</td>\n",
       "      <td>No</td>\n",
       "      <td>Yes</td>\n",
       "      <td>2015-08-22 19:14:30.177</td>\n",
       "      <td>2015-08-22</td>\n",
       "      <td>2016-08-05</td>\n",
       "    </tr>\n",
       "    <tr>\n",
       "      <th>29999</th>\n",
       "      <td>10038</td>\n",
       "      <td>Squeeze</td>\n",
       "      <td>M</td>\n",
       "      <td>Shih Tzu</td>\n",
       "      <td>NaN</td>\n",
       "      <td>TAN</td>\n",
       "      <td>WHITE</td>\n",
       "      <td>NaN</td>\n",
       "      <td>2012-03-01</td>\n",
       "      <td>Yes</td>\n",
       "      <td>No</td>\n",
       "      <td>Yes</td>\n",
       "      <td>2015-08-22 19:20:53.700</td>\n",
       "      <td>2015-08-22</td>\n",
       "      <td>2016-07-23</td>\n",
       "    </tr>\n",
       "  </tbody>\n",
       "</table>\n",
       "<p>30000 rows × 15 columns</p>\n",
       "</div>"
      ],
      "text/plain": [
       "       Owner Zip Code   Animal Name Animal Gender         Primary Breed  \\\n",
       "0               10024     BLUE MACK             M               Unknown   \n",
       "1               10461  Indie Zephir             M            Rottweiler   \n",
       "2               10013         Bilal             M  Australian Cattledog   \n",
       "3               10025         Buddy             M               Unknown   \n",
       "4               10013           Ali             M               Basenji   \n",
       "...               ...           ...           ...                   ...   \n",
       "29995           11372         Bella             F               Unknown   \n",
       "29996           11417         Sadie             F  Schnauzer, Miniature   \n",
       "29997           11228       unknown             M            Pomeranian   \n",
       "29998           11217         daisy             F               Unknown   \n",
       "29999           10038       Squeeze             M              Shih Tzu   \n",
       "\n",
       "      Secondary Breed Animal Dominant Color Animal Secondary Color  \\\n",
       "0       AIREDALE TERR                 BROWN                  BLACK   \n",
       "1                 NaN                 BLACK                    TAN   \n",
       "2                 NaN                  Rust                    NaN   \n",
       "3            Cockapoo                 BLOND                  WHITE   \n",
       "4                 NaN                 Black                    NaN   \n",
       "...               ...                   ...                    ...   \n",
       "29995    Goldendoodle                 CREAM                  WHITE   \n",
       "29996             NaN                 BLACK                  BROWN   \n",
       "29997             NaN                   Tan                  White   \n",
       "29998             NaN                  GRAY                  WHITE   \n",
       "29999             NaN                   TAN                  WHITE   \n",
       "\n",
       "      Animal Third Color Animal Birth Spayed or Neut Guard or Trained  \\\n",
       "0                    NaN   2007-11-01            Yes               No   \n",
       "1                    NaN   2013-04-01             No               No   \n",
       "2                    NaN   2014-09-01            Yes              NaN   \n",
       "3                    NaN   2008-04-01            Yes               No   \n",
       "4                    NaN   2014-01-01             No              NaN   \n",
       "...                  ...          ...            ...              ...   \n",
       "29995                TAN   2010-07-01            Yes               No   \n",
       "29996                NaN   2010-05-01            Yes               No   \n",
       "29997                NaN   2014-03-01            Yes              NaN   \n",
       "29998              BLACK   2009-01-01            Yes               No   \n",
       "29999                NaN   2012-03-01            Yes               No   \n",
       "\n",
       "      Vaccinated        Application Date License Issued Date  \\\n",
       "0            Yes 2012-09-19 16:01:19.647          2015-09-19   \n",
       "1            Yes 2013-09-20 11:41:36.647          2014-09-20   \n",
       "2             No 2014-09-12 13:13:36.713          2014-09-12   \n",
       "3            Yes 2014-09-12 15:26:51.417          2014-09-12   \n",
       "4             No 2014-09-12 15:43:17.707          2014-09-12   \n",
       "...          ...                     ...                 ...   \n",
       "29995        Yes 2015-08-22 19:00:39.303          2015-08-22   \n",
       "29996        Yes 2015-08-22 19:03:08.003          2015-08-22   \n",
       "29997        Yes 2015-08-22 19:04:56.720          2015-08-22   \n",
       "29998        Yes 2015-08-22 19:14:30.177          2015-08-22   \n",
       "29999        Yes 2015-08-22 19:20:53.700          2015-08-22   \n",
       "\n",
       "      License Expired Date  \n",
       "0               2016-09-19  \n",
       "1               2018-09-20  \n",
       "2               2019-09-12  \n",
       "3               2017-10-20  \n",
       "4               2019-09-12  \n",
       "...                    ...  \n",
       "29995           2016-09-27  \n",
       "29996           2016-09-28  \n",
       "29997           2016-08-22  \n",
       "29998           2016-08-05  \n",
       "29999           2016-07-23  \n",
       "\n",
       "[30000 rows x 15 columns]"
      ]
     },
     "execution_count": 11,
     "metadata": {},
     "output_type": "execute_result"
    }
   ],
   "source": [
    "# see how many rows there are and take first 30k\n",
    "\n",
    "df.describe()\n",
    "first30k = df.iloc[:30000]\n",
    "first30k"
   ]
  },
  {
   "cell_type": "markdown",
   "metadata": {},
   "source": [
    "## Describe the dataset in words. What is each row? List two column titles along with what each of those columns means.\n",
    "\n",
    "For example: “Each row is an animal in the zoo. `is_reptile` is whether the animal is a reptile or not”"
   ]
  },
  {
   "cell_type": "code",
   "execution_count": null,
   "metadata": {},
   "outputs": [],
   "source": [
    "# Each row is a dog living in NYC!\n",
    "# 'Owner Zip Code' is where the owner lives\n",
    "# 'Primary Breed' is the main known breed of the dog"
   ]
  },
  {
   "cell_type": "markdown",
   "metadata": {},
   "source": [
    "# Your thoughts\n",
    "\n",
    "Think of three questions you could ask this dataset. **Don't ask them**, just write them down in the cell below. Feel free to use either Markdown or Python comments."
   ]
  },
  {
   "cell_type": "code",
   "execution_count": null,
   "metadata": {},
   "outputs": [],
   "source": [
    "# I could ask this dataset:\n",
    "# how many dogs in NYC are of unknown primary breed?\n",
    "# how are Guard or Trained dogs determined? Licensing?\n",
    "# What is the most common dog name in NYC?"
   ]
  },
  {
   "cell_type": "markdown",
   "metadata": {},
   "source": [
    "# Looking at some dogs"
   ]
  },
  {
   "cell_type": "markdown",
   "metadata": {},
   "source": [
    "## What are the most popular (primary) breeds of dogs? Graph the top 10."
   ]
  },
  {
   "cell_type": "code",
   "execution_count": 42,
   "metadata": {},
   "outputs": [
    {
     "data": {
      "text/plain": [
       "<Axes: ylabel='Primary Breed'>"
      ]
     },
     "execution_count": 42,
     "metadata": {},
     "output_type": "execute_result"
    },
    {
     "data": {
      "image/png": "[encoded data removed]",
      "text/plain": [
       "<Figure size 640x480 with 1 Axes>"
      ]
     },
     "metadata": {},
     "output_type": "display_data"
    }
   ],
   "source": [
    "first30k['Primary Breed'].value_counts().sort_values(ascending = False).iloc[:10].plot(kind = 'barh')"
   ]
  },
  {
   "cell_type": "markdown",
   "metadata": {},
   "source": [
    "## \"Unknown\" is a terrible breed! Graph the top 10 breeds that are NOT Unknown\n",
    "\n",
    "...maybe \"unknown\" should just count as missing data?"
   ]
  },
  {
   "cell_type": "code",
   "execution_count": 78,
   "metadata": {},
   "outputs": [
    {
     "data": {
      "text/html": [
       "<div>\n",
       "<style scoped>\n",
       "    .dataframe tbody tr th:only-of-type {\n",
       "        vertical-align: middle;\n",
       "    }\n",
       "\n",
       "    .dataframe tbody tr th {\n",
       "        vertical-align: top;\n",
       "    }\n",
       "\n",
       "    .dataframe thead th {\n",
       "        text-align: right;\n",
       "    }\n",
       "</style>\n",
       "<table border=\"1\" class=\"dataframe\">\n",
       "  <thead>\n",
       "    <tr style=\"text-align: right;\">\n",
       "      <th></th>\n",
       "      <th>Owner Zip Code</th>\n",
       "      <th>Animal Name</th>\n",
       "      <th>Animal Gender</th>\n",
       "      <th>Primary Breed</th>\n",
       "      <th>Secondary Breed</th>\n",
       "      <th>Animal Dominant Color</th>\n",
       "      <th>Animal Secondary Color</th>\n",
       "      <th>Animal Third Color</th>\n",
       "      <th>Animal Birth</th>\n",
       "      <th>Spayed or Neut</th>\n",
       "      <th>Guard or Trained</th>\n",
       "      <th>Vaccinated</th>\n",
       "      <th>Application Date</th>\n",
       "      <th>License Issued Date</th>\n",
       "      <th>License Expired Date</th>\n",
       "    </tr>\n",
       "  </thead>\n",
       "  <tbody>\n",
       "    <tr>\n",
       "      <th>0</th>\n",
       "      <td>10024</td>\n",
       "      <td>BLUE MACK</td>\n",
       "      <td>M</td>\n",
       "      <td>NaN</td>\n",
       "      <td>AIREDALE TERR</td>\n",
       "      <td>BROWN</td>\n",
       "      <td>BLACK</td>\n",
       "      <td>NaN</td>\n",
       "      <td>2007-11-01</td>\n",
       "      <td>Yes</td>\n",
       "      <td>No</td>\n",
       "      <td>Yes</td>\n",
       "      <td>2012-09-19 16:01:19.647</td>\n",
       "      <td>2015-09-19</td>\n",
       "      <td>2016-09-19</td>\n",
       "    </tr>\n",
       "    <tr>\n",
       "      <th>1</th>\n",
       "      <td>10461</td>\n",
       "      <td>Indie Zephir</td>\n",
       "      <td>M</td>\n",
       "      <td>Rottweiler</td>\n",
       "      <td>NaN</td>\n",
       "      <td>BLACK</td>\n",
       "      <td>TAN</td>\n",
       "      <td>NaN</td>\n",
       "      <td>2013-04-01</td>\n",
       "      <td>No</td>\n",
       "      <td>No</td>\n",
       "      <td>Yes</td>\n",
       "      <td>2013-09-20 11:41:36.647</td>\n",
       "      <td>2014-09-20</td>\n",
       "      <td>2018-09-20</td>\n",
       "    </tr>\n",
       "    <tr>\n",
       "      <th>2</th>\n",
       "      <td>10013</td>\n",
       "      <td>Bilal</td>\n",
       "      <td>M</td>\n",
       "      <td>Australian Cattledog</td>\n",
       "      <td>NaN</td>\n",
       "      <td>Rust</td>\n",
       "      <td>NaN</td>\n",
       "      <td>NaN</td>\n",
       "      <td>2014-09-01</td>\n",
       "      <td>Yes</td>\n",
       "      <td>NaN</td>\n",
       "      <td>No</td>\n",
       "      <td>2014-09-12 13:13:36.713</td>\n",
       "      <td>2014-09-12</td>\n",
       "      <td>2019-09-12</td>\n",
       "    </tr>\n",
       "    <tr>\n",
       "      <th>3</th>\n",
       "      <td>10025</td>\n",
       "      <td>Buddy</td>\n",
       "      <td>M</td>\n",
       "      <td>NaN</td>\n",
       "      <td>Cockapoo</td>\n",
       "      <td>BLOND</td>\n",
       "      <td>WHITE</td>\n",
       "      <td>NaN</td>\n",
       "      <td>2008-04-01</td>\n",
       "      <td>Yes</td>\n",
       "      <td>No</td>\n",
       "      <td>Yes</td>\n",
       "      <td>2014-09-12 15:26:51.417</td>\n",
       "      <td>2014-09-12</td>\n",
       "      <td>2017-10-20</td>\n",
       "    </tr>\n",
       "    <tr>\n",
       "      <th>4</th>\n",
       "      <td>10013</td>\n",
       "      <td>Ali</td>\n",
       "      <td>M</td>\n",
       "      <td>Basenji</td>\n",
       "      <td>NaN</td>\n",
       "      <td>Black</td>\n",
       "      <td>NaN</td>\n",
       "      <td>NaN</td>\n",
       "      <td>2014-01-01</td>\n",
       "      <td>No</td>\n",
       "      <td>NaN</td>\n",
       "      <td>No</td>\n",
       "      <td>2014-09-12 15:43:17.707</td>\n",
       "      <td>2014-09-12</td>\n",
       "      <td>2019-09-12</td>\n",
       "    </tr>\n",
       "    <tr>\n",
       "      <th>...</th>\n",
       "      <td>...</td>\n",
       "      <td>...</td>\n",
       "      <td>...</td>\n",
       "      <td>...</td>\n",
       "      <td>...</td>\n",
       "      <td>...</td>\n",
       "      <td>...</td>\n",
       "      <td>...</td>\n",
       "      <td>...</td>\n",
       "      <td>...</td>\n",
       "      <td>...</td>\n",
       "      <td>...</td>\n",
       "      <td>...</td>\n",
       "      <td>...</td>\n",
       "      <td>...</td>\n",
       "    </tr>\n",
       "    <tr>\n",
       "      <th>29995</th>\n",
       "      <td>11372</td>\n",
       "      <td>Bella</td>\n",
       "      <td>F</td>\n",
       "      <td>NaN</td>\n",
       "      <td>Goldendoodle</td>\n",
       "      <td>CREAM</td>\n",
       "      <td>WHITE</td>\n",
       "      <td>TAN</td>\n",
       "      <td>2010-07-01</td>\n",
       "      <td>Yes</td>\n",
       "      <td>No</td>\n",
       "      <td>Yes</td>\n",
       "      <td>2015-08-22 19:00:39.303</td>\n",
       "      <td>2015-08-22</td>\n",
       "      <td>2016-09-27</td>\n",
       "    </tr>\n",
       "    <tr>\n",
       "      <th>29996</th>\n",
       "      <td>11417</td>\n",
       "      <td>Sadie</td>\n",
       "      <td>F</td>\n",
       "      <td>Schnauzer, Miniature</td>\n",
       "      <td>NaN</td>\n",
       "      <td>BLACK</td>\n",
       "      <td>BROWN</td>\n",
       "      <td>NaN</td>\n",
       "      <td>2010-05-01</td>\n",
       "      <td>Yes</td>\n",
       "      <td>No</td>\n",
       "      <td>Yes</td>\n",
       "      <td>2015-08-22 19:03:08.003</td>\n",
       "      <td>2015-08-22</td>\n",
       "      <td>2016-09-28</td>\n",
       "    </tr>\n",
       "    <tr>\n",
       "      <th>29997</th>\n",
       "      <td>11228</td>\n",
       "      <td>unknown</td>\n",
       "      <td>M</td>\n",
       "      <td>Pomeranian</td>\n",
       "      <td>NaN</td>\n",
       "      <td>Tan</td>\n",
       "      <td>White</td>\n",
       "      <td>NaN</td>\n",
       "      <td>2014-03-01</td>\n",
       "      <td>Yes</td>\n",
       "      <td>NaN</td>\n",
       "      <td>Yes</td>\n",
       "      <td>2015-08-22 19:04:56.720</td>\n",
       "      <td>2015-08-22</td>\n",
       "      <td>2016-08-22</td>\n",
       "    </tr>\n",
       "    <tr>\n",
       "      <th>29998</th>\n",
       "      <td>11217</td>\n",
       "      <td>daisy</td>\n",
       "      <td>F</td>\n",
       "      <td>NaN</td>\n",
       "      <td>NaN</td>\n",
       "      <td>GRAY</td>\n",
       "      <td>WHITE</td>\n",
       "      <td>BLACK</td>\n",
       "      <td>2009-01-01</td>\n",
       "      <td>Yes</td>\n",
       "      <td>No</td>\n",
       "      <td>Yes</td>\n",
       "      <td>2015-08-22 19:14:30.177</td>\n",
       "      <td>2015-08-22</td>\n",
       "      <td>2016-08-05</td>\n",
       "    </tr>\n",
       "    <tr>\n",
       "      <th>29999</th>\n",
       "      <td>10038</td>\n",
       "      <td>Squeeze</td>\n",
       "      <td>M</td>\n",
       "      <td>Shih Tzu</td>\n",
       "      <td>NaN</td>\n",
       "      <td>TAN</td>\n",
       "      <td>WHITE</td>\n",
       "      <td>NaN</td>\n",
       "      <td>2012-03-01</td>\n",
       "      <td>Yes</td>\n",
       "      <td>No</td>\n",
       "      <td>Yes</td>\n",
       "      <td>2015-08-22 19:20:53.700</td>\n",
       "      <td>2015-08-22</td>\n",
       "      <td>2016-07-23</td>\n",
       "    </tr>\n",
       "  </tbody>\n",
       "</table>\n",
       "<p>30000 rows × 15 columns</p>\n",
       "</div>"
      ],
      "text/plain": [
       "       Owner Zip Code   Animal Name Animal Gender         Primary Breed  \\\n",
       "0               10024     BLUE MACK             M                   NaN   \n",
       "1               10461  Indie Zephir             M            Rottweiler   \n",
       "2               10013         Bilal             M  Australian Cattledog   \n",
       "3               10025         Buddy             M                   NaN   \n",
       "4               10013           Ali             M               Basenji   \n",
       "...               ...           ...           ...                   ...   \n",
       "29995           11372         Bella             F                   NaN   \n",
       "29996           11417         Sadie             F  Schnauzer, Miniature   \n",
       "29997           11228       unknown             M            Pomeranian   \n",
       "29998           11217         daisy             F                   NaN   \n",
       "29999           10038       Squeeze             M              Shih Tzu   \n",
       "\n",
       "      Secondary Breed Animal Dominant Color Animal Secondary Color  \\\n",
       "0       AIREDALE TERR                 BROWN                  BLACK   \n",
       "1                 NaN                 BLACK                    TAN   \n",
       "2                 NaN                  Rust                    NaN   \n",
       "3            Cockapoo                 BLOND                  WHITE   \n",
       "4                 NaN                 Black                    NaN   \n",
       "...               ...                   ...                    ...   \n",
       "29995    Goldendoodle                 CREAM                  WHITE   \n",
       "29996             NaN                 BLACK                  BROWN   \n",
       "29997             NaN                   Tan                  White   \n",
       "29998             NaN                  GRAY                  WHITE   \n",
       "29999             NaN                   TAN                  WHITE   \n",
       "\n",
       "      Animal Third Color Animal Birth Spayed or Neut Guard or Trained  \\\n",
       "0                    NaN   2007-11-01            Yes               No   \n",
       "1                    NaN   2013-04-01             No               No   \n",
       "2                    NaN   2014-09-01            Yes              NaN   \n",
       "3                    NaN   2008-04-01            Yes               No   \n",
       "4                    NaN   2014-01-01             No              NaN   \n",
       "...                  ...          ...            ...              ...   \n",
       "29995                TAN   2010-07-01            Yes               No   \n",
       "29996                NaN   2010-05-01            Yes               No   \n",
       "29997                NaN   2014-03-01            Yes              NaN   \n",
       "29998              BLACK   2009-01-01            Yes               No   \n",
       "29999                NaN   2012-03-01            Yes               No   \n",
       "\n",
       "      Vaccinated        Application Date License Issued Date  \\\n",
       "0            Yes 2012-09-19 16:01:19.647          2015-09-19   \n",
       "1            Yes 2013-09-20 11:41:36.647          2014-09-20   \n",
       "2             No 2014-09-12 13:13:36.713          2014-09-12   \n",
       "3            Yes 2014-09-12 15:26:51.417          2014-09-12   \n",
       "4             No 2014-09-12 15:43:17.707          2014-09-12   \n",
       "...          ...                     ...                 ...   \n",
       "29995        Yes 2015-08-22 19:00:39.303          2015-08-22   \n",
       "29996        Yes 2015-08-22 19:03:08.003          2015-08-22   \n",
       "29997        Yes 2015-08-22 19:04:56.720          2015-08-22   \n",
       "29998        Yes 2015-08-22 19:14:30.177          2015-08-22   \n",
       "29999        Yes 2015-08-22 19:20:53.700          2015-08-22   \n",
       "\n",
       "      License Expired Date  \n",
       "0               2016-09-19  \n",
       "1               2018-09-20  \n",
       "2               2019-09-12  \n",
       "3               2017-10-20  \n",
       "4               2019-09-12  \n",
       "...                    ...  \n",
       "29995           2016-09-27  \n",
       "29996           2016-09-28  \n",
       "29997           2016-08-22  \n",
       "29998           2016-08-05  \n",
       "29999           2016-07-23  \n",
       "\n",
       "[30000 rows x 15 columns]"
      ]
     },
     "execution_count": 78,
     "metadata": {},
     "output_type": "execute_result"
    }
   ],
   "source": [
    "newdf = first30k.replace(\"Unknown\", \"NaN\")\n",
    "newdf"
   ]
  },
  {
   "cell_type": "code",
   "execution_count": 83,
   "metadata": {},
   "outputs": [
    {
     "data": {
      "text/plain": [
       "<Axes: ylabel='Primary Breed'>"
      ]
     },
     "execution_count": 83,
     "metadata": {},
     "output_type": "execute_result"
    },
    {
     "data": {
      "image/png": "[encoded data removed]",
      "text/plain": [
       "<Figure size 640x480 with 1 Axes>"
      ]
     },
     "metadata": {},
     "output_type": "display_data"
    }
   ],
   "source": [
    "newdf['Primary Breed'].value_counts().dropna().sort_values(ascending = False).iloc[1:11].plot(kind = 'barh')\n",
    "\n",
    "# cant figure out why dropna didn't work so just did iloc from 1-11"
   ]
  },
  {
   "cell_type": "markdown",
   "metadata": {},
   "source": [
    "## What are the most popular dog names?"
   ]
  },
  {
   "cell_type": "code",
   "execution_count": 88,
   "metadata": {},
   "outputs": [
    {
     "data": {
      "text/plain": [
       "Animal Name\n",
       "UNKNOWN    203\n",
       "Max        202\n",
       "NaN        197\n",
       "Bella      193\n",
       "Charlie    172\n",
       "Lola       146\n",
       "Rocky      140\n",
       "Lucy       128\n",
       "Coco       114\n",
       "Buddy      113\n",
       "Name: count, dtype: int64"
      ]
     },
     "execution_count": 88,
     "metadata": {},
     "output_type": "execute_result"
    }
   ],
   "source": [
    "newdf['Animal Name'].value_counts().sort_values(ascending = False).head(10)"
   ]
  },
  {
   "cell_type": "markdown",
   "metadata": {},
   "source": [
    "## Do any dogs have your name? How many dogs are named \"Max,\" and how many are named \"Maxwell\"?"
   ]
  },
  {
   "cell_type": "code",
   "execution_count": 122,
   "metadata": {},
   "outputs": [
    {
     "data": {
      "text/html": [
       "<div>\n",
       "<style scoped>\n",
       "    .dataframe tbody tr th:only-of-type {\n",
       "        vertical-align: middle;\n",
       "    }\n",
       "\n",
       "    .dataframe tbody tr th {\n",
       "        vertical-align: top;\n",
       "    }\n",
       "\n",
       "    .dataframe thead th {\n",
       "        text-align: right;\n",
       "    }\n",
       "</style>\n",
       "<table border=\"1\" class=\"dataframe\">\n",
       "  <thead>\n",
       "    <tr style=\"text-align: right;\">\n",
       "      <th></th>\n",
       "      <th>Owner Zip Code</th>\n",
       "      <th>Animal Name</th>\n",
       "      <th>Animal Gender</th>\n",
       "      <th>Primary Breed</th>\n",
       "      <th>Secondary Breed</th>\n",
       "      <th>Animal Dominant Color</th>\n",
       "      <th>Animal Secondary Color</th>\n",
       "      <th>Animal Third Color</th>\n",
       "      <th>Animal Birth</th>\n",
       "      <th>Spayed or Neut</th>\n",
       "      <th>Guard or Trained</th>\n",
       "      <th>Vaccinated</th>\n",
       "      <th>Application Date</th>\n",
       "      <th>License Issued Date</th>\n",
       "      <th>License Expired Date</th>\n",
       "    </tr>\n",
       "  </thead>\n",
       "  <tbody>\n",
       "  </tbody>\n",
       "</table>\n",
       "</div>"
      ],
      "text/plain": [
       "Empty DataFrame\n",
       "Columns: [Owner Zip Code, Animal Name, Animal Gender, Primary Breed, Secondary Breed, Animal Dominant Color, Animal Secondary Color, Animal Third Color, Animal Birth, Spayed or Neut, Guard or Trained, Vaccinated, Application Date, License Issued Date, License Expired Date]\n",
       "Index: []"
      ]
     },
     "execution_count": 122,
     "metadata": {},
     "output_type": "execute_result"
    }
   ],
   "source": [
    "newdf.query('`Animal Name` == \"Meagan\"')\n",
    "# no dogs have my name!"
   ]
  },
  {
   "cell_type": "code",
   "execution_count": 129,
   "metadata": {},
   "outputs": [
    {
     "data": {
      "text/html": [
       "<div>\n",
       "<style scoped>\n",
       "    .dataframe tbody tr th:only-of-type {\n",
       "        vertical-align: middle;\n",
       "    }\n",
       "\n",
       "    .dataframe tbody tr th {\n",
       "        vertical-align: top;\n",
       "    }\n",
       "\n",
       "    .dataframe thead th {\n",
       "        text-align: right;\n",
       "    }\n",
       "</style>\n",
       "<table border=\"1\" class=\"dataframe\">\n",
       "  <thead>\n",
       "    <tr style=\"text-align: right;\">\n",
       "      <th></th>\n",
       "      <th>Owner Zip Code</th>\n",
       "      <th>Animal Birth</th>\n",
       "      <th>Application Date</th>\n",
       "      <th>License Issued Date</th>\n",
       "      <th>License Expired Date</th>\n",
       "    </tr>\n",
       "  </thead>\n",
       "  <tbody>\n",
       "    <tr>\n",
       "      <th>count</th>\n",
       "      <td>202.000000</td>\n",
       "      <td>202</td>\n",
       "      <td>202</td>\n",
       "      <td>202</td>\n",
       "      <td>202</td>\n",
       "    </tr>\n",
       "    <tr>\n",
       "      <th>mean</th>\n",
       "      <td>10719.544554</td>\n",
       "      <td>2009-07-09 00:14:15.445544448</td>\n",
       "      <td>2015-06-06 09:16:36.413108992</td>\n",
       "      <td>2015-06-05 18:53:27.920792064</td>\n",
       "      <td>2016-11-30 06:10:41.584158464</td>\n",
       "    </tr>\n",
       "    <tr>\n",
       "      <th>min</th>\n",
       "      <td>10002.000000</td>\n",
       "      <td>1998-07-01 00:00:00</td>\n",
       "      <td>2014-09-14 21:58:06.647000</td>\n",
       "      <td>2014-09-14 00:00:00</td>\n",
       "      <td>2016-04-29 00:00:00</td>\n",
       "    </tr>\n",
       "    <tr>\n",
       "      <th>25%</th>\n",
       "      <td>10040.000000</td>\n",
       "      <td>2007-01-01 00:00:00</td>\n",
       "      <td>2015-05-20 18:21:25.987000064</td>\n",
       "      <td>2015-05-20 06:00:00</td>\n",
       "      <td>2016-06-14 06:00:00</td>\n",
       "    </tr>\n",
       "    <tr>\n",
       "      <th>50%</th>\n",
       "      <td>10469.000000</td>\n",
       "      <td>2010-03-16 12:00:00</td>\n",
       "      <td>2015-06-18 20:08:53.080000</td>\n",
       "      <td>2015-06-18 12:00:00</td>\n",
       "      <td>2016-07-21 12:00:00</td>\n",
       "    </tr>\n",
       "    <tr>\n",
       "      <th>75%</th>\n",
       "      <td>11237.500000</td>\n",
       "      <td>2012-10-01 00:00:00</td>\n",
       "      <td>2015-07-20 16:22:27.616000</td>\n",
       "      <td>2015-07-20 00:00:00</td>\n",
       "      <td>2016-08-24 18:00:00</td>\n",
       "    </tr>\n",
       "    <tr>\n",
       "      <th>max</th>\n",
       "      <td>11691.000000</td>\n",
       "      <td>2015-05-01 00:00:00</td>\n",
       "      <td>2015-08-22 17:49:12.907000</td>\n",
       "      <td>2015-08-22 00:00:00</td>\n",
       "      <td>2020-09-15 00:00:00</td>\n",
       "    </tr>\n",
       "    <tr>\n",
       "      <th>std</th>\n",
       "      <td>576.894974</td>\n",
       "      <td>NaN</td>\n",
       "      <td>NaN</td>\n",
       "      <td>NaN</td>\n",
       "      <td>NaN</td>\n",
       "    </tr>\n",
       "  </tbody>\n",
       "</table>\n",
       "</div>"
      ],
      "text/plain": [
       "       Owner Zip Code                   Animal Birth  \\\n",
       "count      202.000000                            202   \n",
       "mean     10719.544554  2009-07-09 00:14:15.445544448   \n",
       "min      10002.000000            1998-07-01 00:00:00   \n",
       "25%      10040.000000            2007-01-01 00:00:00   \n",
       "50%      10469.000000            2010-03-16 12:00:00   \n",
       "75%      11237.500000            2012-10-01 00:00:00   \n",
       "max      11691.000000            2015-05-01 00:00:00   \n",
       "std        576.894974                            NaN   \n",
       "\n",
       "                    Application Date            License Issued Date  \\\n",
       "count                            202                            202   \n",
       "mean   2015-06-06 09:16:36.413108992  2015-06-05 18:53:27.920792064   \n",
       "min       2014-09-14 21:58:06.647000            2014-09-14 00:00:00   \n",
       "25%    2015-05-20 18:21:25.987000064            2015-05-20 06:00:00   \n",
       "50%       2015-06-18 20:08:53.080000            2015-06-18 12:00:00   \n",
       "75%       2015-07-20 16:22:27.616000            2015-07-20 00:00:00   \n",
       "max       2015-08-22 17:49:12.907000            2015-08-22 00:00:00   \n",
       "std                              NaN                            NaN   \n",
       "\n",
       "                License Expired Date  \n",
       "count                            202  \n",
       "mean   2016-11-30 06:10:41.584158464  \n",
       "min              2016-04-29 00:00:00  \n",
       "25%              2016-06-14 06:00:00  \n",
       "50%              2016-07-21 12:00:00  \n",
       "75%              2016-08-24 18:00:00  \n",
       "max              2020-09-15 00:00:00  \n",
       "std                              NaN  "
      ]
     },
     "execution_count": 129,
     "metadata": {},
     "output_type": "execute_result"
    }
   ],
   "source": [
    "newdf.query('`Animal Name` == \"Max\"').describe()\n",
    "# 202 dogs have the name Max"
   ]
  },
  {
   "cell_type": "code",
   "execution_count": 130,
   "metadata": {},
   "outputs": [
    {
     "data": {
      "text/html": [
       "<div>\n",
       "<style scoped>\n",
       "    .dataframe tbody tr th:only-of-type {\n",
       "        vertical-align: middle;\n",
       "    }\n",
       "\n",
       "    .dataframe tbody tr th {\n",
       "        vertical-align: top;\n",
       "    }\n",
       "\n",
       "    .dataframe thead th {\n",
       "        text-align: right;\n",
       "    }\n",
       "</style>\n",
       "<table border=\"1\" class=\"dataframe\">\n",
       "  <thead>\n",
       "    <tr style=\"text-align: right;\">\n",
       "      <th></th>\n",
       "      <th>Owner Zip Code</th>\n",
       "      <th>Animal Birth</th>\n",
       "      <th>Application Date</th>\n",
       "      <th>License Issued Date</th>\n",
       "      <th>License Expired Date</th>\n",
       "    </tr>\n",
       "  </thead>\n",
       "  <tbody>\n",
       "    <tr>\n",
       "      <th>count</th>\n",
       "      <td>11.000000</td>\n",
       "      <td>11</td>\n",
       "      <td>11</td>\n",
       "      <td>11</td>\n",
       "      <td>11</td>\n",
       "    </tr>\n",
       "    <tr>\n",
       "      <th>mean</th>\n",
       "      <td>10418.000000</td>\n",
       "      <td>2011-01-20 06:32:43.636363520</td>\n",
       "      <td>2015-06-27 00:41:23.747727616</td>\n",
       "      <td>2015-06-26 10:54:32.727272704</td>\n",
       "      <td>2016-12-19 19:38:10.909090816</td>\n",
       "    </tr>\n",
       "    <tr>\n",
       "      <th>min</th>\n",
       "      <td>10005.000000</td>\n",
       "      <td>2003-01-01 00:00:00</td>\n",
       "      <td>2014-12-21 10:32:07.560000</td>\n",
       "      <td>2014-12-21 00:00:00</td>\n",
       "      <td>2016-05-10 00:00:00</td>\n",
       "    </tr>\n",
       "    <tr>\n",
       "      <th>25%</th>\n",
       "      <td>10022.000000</td>\n",
       "      <td>2009-01-01 00:00:00</td>\n",
       "      <td>2015-06-22 04:18:20.167000064</td>\n",
       "      <td>2015-06-21 12:00:00</td>\n",
       "      <td>2016-06-21 12:00:00</td>\n",
       "    </tr>\n",
       "    <tr>\n",
       "      <th>50%</th>\n",
       "      <td>10038.000000</td>\n",
       "      <td>2012-10-01 00:00:00</td>\n",
       "      <td>2015-07-23 10:13:49.767000064</td>\n",
       "      <td>2015-07-23 00:00:00</td>\n",
       "      <td>2016-08-11 00:00:00</td>\n",
       "    </tr>\n",
       "    <tr>\n",
       "      <th>75%</th>\n",
       "      <td>10756.500000</td>\n",
       "      <td>2013-07-02 12:00:00</td>\n",
       "      <td>2015-08-12 04:45:15.030000128</td>\n",
       "      <td>2015-08-11 12:00:00</td>\n",
       "      <td>2016-09-20 00:00:00</td>\n",
       "    </tr>\n",
       "    <tr>\n",
       "      <th>max</th>\n",
       "      <td>11417.000000</td>\n",
       "      <td>2015-04-01 00:00:00</td>\n",
       "      <td>2015-08-19 20:36:01.527000</td>\n",
       "      <td>2015-08-19 00:00:00</td>\n",
       "      <td>2019-12-21 00:00:00</td>\n",
       "    </tr>\n",
       "    <tr>\n",
       "      <th>std</th>\n",
       "      <td>570.288699</td>\n",
       "      <td>NaN</td>\n",
       "      <td>NaN</td>\n",
       "      <td>NaN</td>\n",
       "      <td>NaN</td>\n",
       "    </tr>\n",
       "  </tbody>\n",
       "</table>\n",
       "</div>"
      ],
      "text/plain": [
       "       Owner Zip Code                   Animal Birth  \\\n",
       "count       11.000000                             11   \n",
       "mean     10418.000000  2011-01-20 06:32:43.636363520   \n",
       "min      10005.000000            2003-01-01 00:00:00   \n",
       "25%      10022.000000            2009-01-01 00:00:00   \n",
       "50%      10038.000000            2012-10-01 00:00:00   \n",
       "75%      10756.500000            2013-07-02 12:00:00   \n",
       "max      11417.000000            2015-04-01 00:00:00   \n",
       "std        570.288699                            NaN   \n",
       "\n",
       "                    Application Date            License Issued Date  \\\n",
       "count                             11                             11   \n",
       "mean   2015-06-27 00:41:23.747727616  2015-06-26 10:54:32.727272704   \n",
       "min       2014-12-21 10:32:07.560000            2014-12-21 00:00:00   \n",
       "25%    2015-06-22 04:18:20.167000064            2015-06-21 12:00:00   \n",
       "50%    2015-07-23 10:13:49.767000064            2015-07-23 00:00:00   \n",
       "75%    2015-08-12 04:45:15.030000128            2015-08-11 12:00:00   \n",
       "max       2015-08-19 20:36:01.527000            2015-08-19 00:00:00   \n",
       "std                              NaN                            NaN   \n",
       "\n",
       "                License Expired Date  \n",
       "count                             11  \n",
       "mean   2016-12-19 19:38:10.909090816  \n",
       "min              2016-05-10 00:00:00  \n",
       "25%              2016-06-21 12:00:00  \n",
       "50%              2016-08-11 00:00:00  \n",
       "75%              2016-09-20 00:00:00  \n",
       "max              2019-12-21 00:00:00  \n",
       "std                              NaN  "
      ]
     },
     "execution_count": 130,
     "metadata": {},
     "output_type": "execute_result"
    }
   ],
   "source": [
    "newdf.query('`Animal Name` == \"Maxwell\"').describe()\n",
    "# 11 dogs have the name Maxwell"
   ]
  },
  {
   "cell_type": "markdown",
   "metadata": {},
   "source": [
    "## What percentage of dogs are guard dogs?"
   ]
  },
  {
   "cell_type": "code",
   "execution_count": 132,
   "metadata": {},
   "outputs": [
    {
     "data": {
      "text/plain": [
       "Guard or Trained\n",
       "No     99.914254\n",
       "Yes     0.085746\n",
       "Name: proportion, dtype: float64"
      ]
     },
     "execution_count": 132,
     "metadata": {},
     "output_type": "execute_result"
    }
   ],
   "source": [
    "newdf['Guard or Trained'].value_counts(normalize = True)*100\n",
    "# 0.08% of dogs are guard dogs or trained"
   ]
  },
  {
   "cell_type": "markdown",
   "metadata": {},
   "source": [
    "## What are the actual numbers?"
   ]
  },
  {
   "cell_type": "code",
   "execution_count": 133,
   "metadata": {},
   "outputs": [
    {
     "data": {
      "text/plain": [
       "Guard or Trained\n",
       "No     19809\n",
       "Yes       17\n",
       "Name: count, dtype: int64"
      ]
     },
     "execution_count": 133,
     "metadata": {},
     "output_type": "execute_result"
    }
   ],
   "source": [
    "newdf['Guard or Trained'].value_counts()"
   ]
  },
  {
   "cell_type": "markdown",
   "metadata": {},
   "source": [
    "## Wait... if you add that up, is it the same as your number of rows? Where are the other dogs???? How can we find them??????\n",
    "\n",
    "Use your `.head()` to think about it, then you'll be a little more specific when using `.value_counts()`"
   ]
  },
  {
   "cell_type": "code",
   "execution_count": 134,
   "metadata": {},
   "outputs": [
    {
     "data": {
      "text/plain": [
       "0     No\n",
       "1     No\n",
       "2    NaN\n",
       "3     No\n",
       "4    NaN\n",
       "Name: Guard or Trained, dtype: object"
      ]
     },
     "execution_count": 134,
     "metadata": {},
     "output_type": "execute_result"
    }
   ],
   "source": [
    "newdf['Guard or Trained'].head()"
   ]
  },
  {
   "cell_type": "markdown",
   "metadata": {},
   "source": [
    "## Fill in all of those empty \"Guard or Trained\" columns with \"No\"\n",
    "\n",
    "In this case, it seems nicer than missing data. Then check your result with another `.value_counts()`"
   ]
  },
  {
   "cell_type": "code",
   "execution_count": 146,
   "metadata": {},
   "outputs": [
    {
     "data": {
      "text/plain": [
       "Guard or Trained\n",
       "No     29983\n",
       "Yes       17\n",
       "Name: count, dtype: int64"
      ]
     },
     "execution_count": 146,
     "metadata": {},
     "output_type": "execute_result"
    }
   ],
   "source": [
    "newdf['Guard or Trained'].fillna(value=\"No\").value_counts()\n"
   ]
  },
  {
   "cell_type": "markdown",
   "metadata": {},
   "source": [
    "## What are the top dog breeds for guard dogs? "
   ]
  },
  {
   "cell_type": "code",
   "execution_count": 155,
   "metadata": {},
   "outputs": [
    {
     "data": {
      "text/plain": [
       "Primary Breed\n",
       "NaN                           5\n",
       "German Shepherd Dog           3\n",
       "Poodle, Standard              1\n",
       "German Shepherd Crossbreed    1\n",
       "Labrador Retriever            1\n",
       "Doberman Pinscher             1\n",
       "Shih Tzu                      1\n",
       "Rottweiler                    1\n",
       "Golden Retriever              1\n",
       "Schnauzer, Miniature          1\n",
       "Yorkshire Terrier             1\n",
       "Name: count, dtype: int64"
      ]
     },
     "execution_count": 155,
     "metadata": {},
     "output_type": "execute_result"
    }
   ],
   "source": [
    "newdf.query('`Guard or Trained` == \"Yes\"')['Primary Breed'].value_counts()\n",
    "\n",
    "# German Shepherd is the top breed for guard dogs"
   ]
  },
  {
   "cell_type": "markdown",
   "metadata": {},
   "source": [
    "## Create a new column called \"year\" that is the dog's year of birth\n",
    "\n",
    "If `Animal Birth` is a datetime it makes things much easier."
   ]
  },
  {
   "cell_type": "code",
   "execution_count": 160,
   "metadata": {},
   "outputs": [
    {
     "data": {
      "text/plain": [
       "Owner Zip Code                     int64\n",
       "Animal Name                       object\n",
       "Animal Gender                     object\n",
       "Primary Breed                     object\n",
       "Secondary Breed                   object\n",
       "Animal Dominant Color             object\n",
       "Animal Secondary Color            object\n",
       "Animal Third Color                object\n",
       "Animal Birth              datetime64[ns]\n",
       "Spayed or Neut                    object\n",
       "Guard or Trained                  object\n",
       "Vaccinated                        object\n",
       "Application Date          datetime64[ns]\n",
       "License Issued Date       datetime64[ns]\n",
       "License Expired Date      datetime64[ns]\n",
       "dtype: object"
      ]
     },
     "execution_count": 160,
     "metadata": {},
     "output_type": "execute_result"
    }
   ],
   "source": [
    "newdf.dtypes"
   ]
  },
  {
   "cell_type": "code",
   "execution_count": 164,
   "metadata": {},
   "outputs": [
    {
     "ename": "TypeError",
     "evalue": "Addition/subtraction of integers and integer-arrays with DatetimeArray is no longer supported.  Instead of adding/subtracting `n`, use `n * obj.freq`",
     "output_type": "error",
     "traceback": [
      "\u001b[31m---------------------------------------------------------------------------\u001b[39m",
      "\u001b[31mTypeError\u001b[39m                                 Traceback (most recent call last)",
      "\u001b[36mCell\u001b[39m\u001b[36m \u001b[39m\u001b[32mIn[164]\u001b[39m\u001b[32m, line 1\u001b[39m\n\u001b[32m----> \u001b[39m\u001b[32m1\u001b[39m newdf[\u001b[33m'\u001b[39m\u001b[33myear\u001b[39m\u001b[33m'\u001b[39m] = \u001b[32;43m2025\u001b[39;49m\u001b[43m-\u001b[49m\u001b[32;43m6\u001b[39;49m\u001b[43m-\u001b[49m\u001b[32;43m30\u001b[39;49m\u001b[43m \u001b[49m\u001b[43m-\u001b[49m\u001b[43m \u001b[49m\u001b[43mnewdf\u001b[49m\u001b[43m[\u001b[49m\u001b[33;43m'\u001b[39;49m\u001b[33;43mAnimal Birth\u001b[39;49m\u001b[33;43m'\u001b[39;49m\u001b[43m]\u001b[49m\n",
      "\u001b[36mFile \u001b[39m\u001b[32m~/.pyenv/versions/3.12.6/lib/python3.12/site-packages/pandas/core/ops/common.py:76\u001b[39m, in \u001b[36m_unpack_zerodim_and_defer.<locals>.new_method\u001b[39m\u001b[34m(self, other)\u001b[39m\n\u001b[32m     72\u001b[39m             \u001b[38;5;28;01mreturn\u001b[39;00m \u001b[38;5;28mNotImplemented\u001b[39m\n\u001b[32m     74\u001b[39m other = item_from_zerodim(other)\n\u001b[32m---> \u001b[39m\u001b[32m76\u001b[39m \u001b[38;5;28;01mreturn\u001b[39;00m \u001b[43mmethod\u001b[49m\u001b[43m(\u001b[49m\u001b[38;5;28;43mself\u001b[39;49m\u001b[43m,\u001b[49m\u001b[43m \u001b[49m\u001b[43mother\u001b[49m\u001b[43m)\u001b[49m\n",
      "\u001b[36mFile \u001b[39m\u001b[32m~/.pyenv/versions/3.12.6/lib/python3.12/site-packages/pandas/core/arraylike.py:198\u001b[39m, in \u001b[36mOpsMixin.__rsub__\u001b[39m\u001b[34m(self, other)\u001b[39m\n\u001b[32m    196\u001b[39m \u001b[38;5;129m@unpack_zerodim_and_defer\u001b[39m(\u001b[33m\"\u001b[39m\u001b[33m__rsub__\u001b[39m\u001b[33m\"\u001b[39m)\n\u001b[32m    197\u001b[39m \u001b[38;5;28;01mdef\u001b[39;00m\u001b[38;5;250m \u001b[39m\u001b[34m__rsub__\u001b[39m(\u001b[38;5;28mself\u001b[39m, other):\n\u001b[32m--> \u001b[39m\u001b[32m198\u001b[39m     \u001b[38;5;28;01mreturn\u001b[39;00m \u001b[38;5;28;43mself\u001b[39;49m\u001b[43m.\u001b[49m\u001b[43m_arith_method\u001b[49m\u001b[43m(\u001b[49m\u001b[43mother\u001b[49m\u001b[43m,\u001b[49m\u001b[43m \u001b[49m\u001b[43mroperator\u001b[49m\u001b[43m.\u001b[49m\u001b[43mrsub\u001b[49m\u001b[43m)\u001b[49m\n",
      "\u001b[36mFile \u001b[39m\u001b[32m~/.pyenv/versions/3.12.6/lib/python3.12/site-packages/pandas/core/series.py:6146\u001b[39m, in \u001b[36mSeries._arith_method\u001b[39m\u001b[34m(self, other, op)\u001b[39m\n\u001b[32m   6144\u001b[39m \u001b[38;5;28;01mdef\u001b[39;00m\u001b[38;5;250m \u001b[39m\u001b[34m_arith_method\u001b[39m(\u001b[38;5;28mself\u001b[39m, other, op):\n\u001b[32m   6145\u001b[39m     \u001b[38;5;28mself\u001b[39m, other = \u001b[38;5;28mself\u001b[39m._align_for_op(other)\n\u001b[32m-> \u001b[39m\u001b[32m6146\u001b[39m     \u001b[38;5;28;01mreturn\u001b[39;00m \u001b[43mbase\u001b[49m\u001b[43m.\u001b[49m\u001b[43mIndexOpsMixin\u001b[49m\u001b[43m.\u001b[49m\u001b[43m_arith_method\u001b[49m\u001b[43m(\u001b[49m\u001b[38;5;28;43mself\u001b[39;49m\u001b[43m,\u001b[49m\u001b[43m \u001b[49m\u001b[43mother\u001b[49m\u001b[43m,\u001b[49m\u001b[43m \u001b[49m\u001b[43mop\u001b[49m\u001b[43m)\u001b[49m\n",
      "\u001b[36mFile \u001b[39m\u001b[32m~/.pyenv/versions/3.12.6/lib/python3.12/site-packages/pandas/core/base.py:1391\u001b[39m, in \u001b[36mIndexOpsMixin._arith_method\u001b[39m\u001b[34m(self, other, op)\u001b[39m\n\u001b[32m   1388\u001b[39m     rvalues = np.arange(rvalues.start, rvalues.stop, rvalues.step)\n\u001b[32m   1390\u001b[39m \u001b[38;5;28;01mwith\u001b[39;00m np.errstate(\u001b[38;5;28mall\u001b[39m=\u001b[33m\"\u001b[39m\u001b[33mignore\u001b[39m\u001b[33m\"\u001b[39m):\n\u001b[32m-> \u001b[39m\u001b[32m1391\u001b[39m     result = \u001b[43mops\u001b[49m\u001b[43m.\u001b[49m\u001b[43marithmetic_op\u001b[49m\u001b[43m(\u001b[49m\u001b[43mlvalues\u001b[49m\u001b[43m,\u001b[49m\u001b[43m \u001b[49m\u001b[43mrvalues\u001b[49m\u001b[43m,\u001b[49m\u001b[43m \u001b[49m\u001b[43mop\u001b[49m\u001b[43m)\u001b[49m\n\u001b[32m   1393\u001b[39m \u001b[38;5;28;01mreturn\u001b[39;00m \u001b[38;5;28mself\u001b[39m._construct_result(result, name=res_name)\n",
      "\u001b[36mFile \u001b[39m\u001b[32m~/.pyenv/versions/3.12.6/lib/python3.12/site-packages/pandas/core/ops/array_ops.py:273\u001b[39m, in \u001b[36marithmetic_op\u001b[39m\u001b[34m(left, right, op)\u001b[39m\n\u001b[32m    260\u001b[39m \u001b[38;5;66;03m# NB: We assume that extract_array and ensure_wrapped_if_datetimelike\u001b[39;00m\n\u001b[32m    261\u001b[39m \u001b[38;5;66;03m#  have already been called on `left` and `right`,\u001b[39;00m\n\u001b[32m    262\u001b[39m \u001b[38;5;66;03m#  and `maybe_prepare_scalar_for_op` has already been called on `right`\u001b[39;00m\n\u001b[32m    263\u001b[39m \u001b[38;5;66;03m# We need to special-case datetime64/timedelta64 dtypes (e.g. because numpy\u001b[39;00m\n\u001b[32m    264\u001b[39m \u001b[38;5;66;03m# casts integer dtypes to timedelta64 when operating with timedelta64 - GH#22390)\u001b[39;00m\n\u001b[32m    266\u001b[39m \u001b[38;5;28;01mif\u001b[39;00m (\n\u001b[32m    267\u001b[39m     should_extension_dispatch(left, right)\n\u001b[32m    268\u001b[39m     \u001b[38;5;129;01mor\u001b[39;00m \u001b[38;5;28misinstance\u001b[39m(right, (Timedelta, BaseOffset, Timestamp))\n\u001b[32m   (...)\u001b[39m\u001b[32m    271\u001b[39m     \u001b[38;5;66;03m# Timedelta/Timestamp and other custom scalars are included in the check\u001b[39;00m\n\u001b[32m    272\u001b[39m     \u001b[38;5;66;03m# because numexpr will fail on it, see GH#31457\u001b[39;00m\n\u001b[32m--> \u001b[39m\u001b[32m273\u001b[39m     res_values = \u001b[43mop\u001b[49m\u001b[43m(\u001b[49m\u001b[43mleft\u001b[49m\u001b[43m,\u001b[49m\u001b[43m \u001b[49m\u001b[43mright\u001b[49m\u001b[43m)\u001b[49m\n\u001b[32m    274\u001b[39m \u001b[38;5;28;01melse\u001b[39;00m:\n\u001b[32m    275\u001b[39m     \u001b[38;5;66;03m# TODO we should handle EAs consistently and move this check before the if/else\u001b[39;00m\n\u001b[32m    276\u001b[39m     \u001b[38;5;66;03m# (https://github.com/pandas-dev/pandas/issues/41165)\u001b[39;00m\n\u001b[32m    277\u001b[39m     \u001b[38;5;66;03m# error: Argument 2 to \"_bool_arith_check\" has incompatible type\u001b[39;00m\n\u001b[32m    278\u001b[39m     \u001b[38;5;66;03m# \"Union[ExtensionArray, ndarray[Any, Any]]\"; expected \"ndarray[Any, Any]\"\u001b[39;00m\n\u001b[32m    279\u001b[39m     _bool_arith_check(op, left, right)  \u001b[38;5;66;03m# type: ignore[arg-type]\u001b[39;00m\n",
      "\u001b[36mFile \u001b[39m\u001b[32m~/.pyenv/versions/3.12.6/lib/python3.12/site-packages/pandas/core/roperator.py:15\u001b[39m, in \u001b[36mrsub\u001b[39m\u001b[34m(left, right)\u001b[39m\n\u001b[32m     14\u001b[39m \u001b[38;5;28;01mdef\u001b[39;00m\u001b[38;5;250m \u001b[39m\u001b[34mrsub\u001b[39m(left, right):\n\u001b[32m---> \u001b[39m\u001b[32m15\u001b[39m     \u001b[38;5;28;01mreturn\u001b[39;00m \u001b[43mright\u001b[49m\u001b[43m \u001b[49m\u001b[43m-\u001b[49m\u001b[43m \u001b[49m\u001b[43mleft\u001b[49m\n",
      "\u001b[36mFile \u001b[39m\u001b[32m~/.pyenv/versions/3.12.6/lib/python3.12/site-packages/pandas/core/arrays/datetimelike.py:1533\u001b[39m, in \u001b[36mDatetimeLikeArrayMixin.__rsub__\u001b[39m\u001b[34m(self, other)\u001b[39m\n\u001b[32m   1530\u001b[39m     \u001b[38;5;28;01mreturn\u001b[39;00m (-\u001b[38;5;28mself\u001b[39m) + other\n\u001b[32m   1532\u001b[39m \u001b[38;5;66;03m# We get here with e.g. datetime objects\u001b[39;00m\n\u001b[32m-> \u001b[39m\u001b[32m1533\u001b[39m \u001b[38;5;28;01mreturn\u001b[39;00m -(\u001b[38;5;28;43mself\u001b[39;49m\u001b[43m \u001b[49m\u001b[43m-\u001b[49m\u001b[43m \u001b[49m\u001b[43mother\u001b[49m)\n",
      "\u001b[36mFile \u001b[39m\u001b[32m~/.pyenv/versions/3.12.6/lib/python3.12/site-packages/pandas/core/ops/common.py:76\u001b[39m, in \u001b[36m_unpack_zerodim_and_defer.<locals>.new_method\u001b[39m\u001b[34m(self, other)\u001b[39m\n\u001b[32m     72\u001b[39m             \u001b[38;5;28;01mreturn\u001b[39;00m \u001b[38;5;28mNotImplemented\u001b[39m\n\u001b[32m     74\u001b[39m other = item_from_zerodim(other)\n\u001b[32m---> \u001b[39m\u001b[32m76\u001b[39m \u001b[38;5;28;01mreturn\u001b[39;00m \u001b[43mmethod\u001b[49m\u001b[43m(\u001b[49m\u001b[38;5;28;43mself\u001b[39;49m\u001b[43m,\u001b[49m\u001b[43m \u001b[49m\u001b[43mother\u001b[49m\u001b[43m)\u001b[49m\n",
      "\u001b[36mFile \u001b[39m\u001b[32m~/.pyenv/versions/3.12.6/lib/python3.12/site-packages/pandas/core/arrays/datetimelike.py:1464\u001b[39m, in \u001b[36mDatetimeLikeArrayMixin.__sub__\u001b[39m\u001b[34m(self, other)\u001b[39m\n\u001b[32m   1460\u001b[39m \u001b[38;5;28;01melif\u001b[39;00m lib.is_integer(other):\n\u001b[32m   1461\u001b[39m     \u001b[38;5;66;03m# This check must come after the check for np.timedelta64\u001b[39;00m\n\u001b[32m   1462\u001b[39m     \u001b[38;5;66;03m# as is_integer returns True for these\u001b[39;00m\n\u001b[32m   1463\u001b[39m     \u001b[38;5;28;01mif\u001b[39;00m \u001b[38;5;129;01mnot\u001b[39;00m \u001b[38;5;28misinstance\u001b[39m(\u001b[38;5;28mself\u001b[39m.dtype, PeriodDtype):\n\u001b[32m-> \u001b[39m\u001b[32m1464\u001b[39m         \u001b[38;5;28;01mraise\u001b[39;00m integer_op_not_supported(\u001b[38;5;28mself\u001b[39m)\n\u001b[32m   1465\u001b[39m     obj = cast(\u001b[33m\"\u001b[39m\u001b[33mPeriodArray\u001b[39m\u001b[33m\"\u001b[39m, \u001b[38;5;28mself\u001b[39m)\n\u001b[32m   1466\u001b[39m     result = obj._addsub_int_array_or_scalar(other * obj.dtype._n, operator.sub)\n",
      "\u001b[31mTypeError\u001b[39m: Addition/subtraction of integers and integer-arrays with DatetimeArray is no longer supported.  Instead of adding/subtracting `n`, use `n * obj.freq`"
     ]
    }
   ],
   "source": [
    "newdf['year'] = 2025-6-30 - newdf['Animal Birth']"
   ]
  },
  {
   "cell_type": "markdown",
   "metadata": {},
   "source": [
    "## Calculate a new column called “age” that shows approximately how old the dog is. How old are dogs on average?"
   ]
  },
  {
   "cell_type": "code",
   "execution_count": null,
   "metadata": {},
   "outputs": [],
   "source": []
  },
  {
   "cell_type": "markdown",
   "metadata": {},
   "source": [
    "# Joining data together"
   ]
  },
  {
   "cell_type": "code",
   "execution_count": null,
   "metadata": {},
   "outputs": [],
   "source": []
  },
  {
   "cell_type": "markdown",
   "metadata": {},
   "source": [
    "## Which neighborhood does each dog live in?\n",
    "\n",
    "You also have a (terrible) list of NYC neighborhoods in `zipcodes-neighborhoods.csv`. Join these two datasets together, so we know what neighborhood each dog lives in. **Be sure to not read it in as `df`, or else you'll overwrite your dogs dataframe.**\n",
    "\n",
    "Here's an example of how you can merge two dataframes:\n",
    "\n",
    "```python\n",
    "merged = prisons_df.merge(states_df, left_on='state', right_on='name')\n",
    "```\n",
    "\n",
    "In the example above, `prisons_df` has a column called `state` that matches with the `name` column of `states_df`. The columns of `states_df` are then added to `prisons_df` and returned as a new dataframe called `merged`.\n",
    "\n",
    "> **Rows without a match get discarded because it is an [inner join](https://pandas.pydata.org/docs/reference/api/pandas.DataFrame.merge.html).** I think left joins are probably the most common (keep rows from the \"left\" df even if they don't have a match in the right. For example, by default a prison with the state of `PUERTO RICO` would be dropped if PR wasn't in `states_df`, but if you changed it to `how='left'` it would be preserved, but the additional columns would just be `NaN`."
   ]
  },
  {
   "cell_type": "code",
   "execution_count": null,
   "metadata": {},
   "outputs": [],
   "source": []
  },
  {
   "cell_type": "markdown",
   "metadata": {},
   "source": [
    "## What is the most popular dog name in all parts of the Bronx? How about Brooklyn? The Upper East Side?"
   ]
  },
  {
   "cell_type": "code",
   "execution_count": null,
   "metadata": {},
   "outputs": [],
   "source": []
  },
  {
   "cell_type": "markdown",
   "metadata": {},
   "source": [
    "## What is the most common dog breed in each of the neighborhoods of NYC?"
   ]
  },
  {
   "cell_type": "code",
   "execution_count": null,
   "metadata": {},
   "outputs": [],
   "source": []
  },
  {
   "cell_type": "code",
   "execution_count": null,
   "metadata": {},
   "outputs": [],
   "source": []
  },
  {
   "cell_type": "markdown",
   "metadata": {},
   "source": [
    "## What breed of dogs are the least likely to be spayed/neutered? Male or female?"
   ]
  },
  {
   "cell_type": "code",
   "execution_count": null,
   "metadata": {},
   "outputs": [],
   "source": []
  },
  {
   "cell_type": "markdown",
   "metadata": {},
   "source": [
    "## How many dogs are in each borough? Plot it in a graph.\n",
    "\n",
    "When plotting, use `kind='barh'`. I didn't say this in class, but horizontal bar graphs are the only graphs I like!"
   ]
  },
  {
   "cell_type": "code",
   "execution_count": null,
   "metadata": {},
   "outputs": [],
   "source": []
  },
  {
   "cell_type": "markdown",
   "metadata": {},
   "source": [
    "## Which borough has the highest number of dogs per-capita?\n",
    "\n",
    "You’ll need to merge in `population_boro.csv`"
   ]
  },
  {
   "cell_type": "code",
   "execution_count": null,
   "metadata": {},
   "outputs": [],
   "source": []
  },
  {
   "cell_type": "markdown",
   "metadata": {},
   "source": [
    "## Make a bar graph of the top 5 breeds in each borough.\n",
    "\n",
    "How do you groupby and then only take the top X number? This is very crazy, so ask in Slack, or a TA, or our buddy ChatGPT."
   ]
  },
  {
   "cell_type": "code",
   "execution_count": null,
   "metadata": {},
   "outputs": [],
   "source": []
  }
 ],
 "metadata": {
  "kernelspec": {
   "display_name": "Python 3 (ipykernel)",
   "language": "python",
   "name": "python3"
  },
  "language_info": {
   "codemirror_mode": {
    "name": "ipython",
    "version": 3
   },
   "file_extension": ".py",
   "mimetype": "text/x-python",
   "name": "python",
   "nbconvert_exporter": "python",
   "pygments_lexer": "ipython3",
   "version": "3.12.6"
  }
 },
 "nbformat": 4,
 "nbformat_minor": 4
}
